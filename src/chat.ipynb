{
 "cells": [
  {
   "cell_type": "markdown",
   "metadata": {},
   "source": [
    "# Build a copilot using Azure AI Studio\n",
    "\n",
    "In this tutorial, you will learn how to build, run, and evaluate, a copilot application using your own custom data.\n",
    "\n",
    "## Pre-Work: Setup AI Project\n",
    "\n",
    "Before opening this Notebook, we assume you already completed the following steps:\n",
    "\n",
    "1. [Step 1](./../docs/step-01.md) - setup your development environment.\n",
    "1. [Step 2](./../docs/step-02.md) - run `ai init` to create AI project\n",
    "1. [Step 3a](./../docs/step-03.md) - run `ai search` to create Search index\n",
    "1. [Step 3b](./../docs/step-03.md) - run `ai dev new .env` to save env vars.\n",
    "\n",
    "\n",
    "\n",
    "## Step 1:\n",
    "\n",
    "In this tutorial we show you how you can build, evaluate, and deploy a co-pilot using custom Python code. We'll be building a prototype co-pilot for a ficticious company called Contoso Outdoor Retailers, and we have some sample company data available that we'll be using.\n",
    "\n",
    "In this tutorial we will:\n",
    " - Create an Azure AI Project and related resources\n",
    " - Build an index in Azure Cognitive Search that can be used for retrieving product data\n",
    " - Create a Q&A flow using the Azure AI SDK\n",
    " - Evaluate the Q&A flow\n",
    " - Deploy the Q&A flow and invoke it\n",
    "\n",
    "## Prerequisites\n",
    "\n",
    "- Get access to the Azure AI Studio. [Learn more](https://learn.microsoft.com/azure/ai-studio/what-is-ai-studio)\n",
    "- (Optional)Bring a docs set to use for Q&A - else use the [demo data](./data/3-product-info) provided\n",
    "\n",
    "## Create an Azure AI Project and related resources\n",
    "\n",
    "Before you can use the notebook, you must create an Azure AI project in Azure AI Studio. You can do this in one of two ways:\n",
    " - [Use the Azure AI Studio UI](https://learn.microsoft.com/azure/ai-studio/how-to/create-projects)\n",
    " - [Use the Azure AI CLI](https://learn.microsoft.com/azure/ai-studio/how-to/cli-install) with `ai init`\n",
    "\n",
    "In _this_ tutorial, we want you to use the second option, and assume you completed the steps documented in the [docs/README.md](./../docs/00-readme.md) section to set up the project successfully. At the completion of that step you should have 2 files created in your local development environment:\n",
    " - `config.json` - providing subscription information, resource group name, and workspace name\n",
    " - `.env` - containing the environment variables provisioned for the Azure AI project\n",
    "\n",
    "🎉 **Congratulations!!** You are now ready to start working with the Azure AI Studio SDK to interact with your Azure AI resources!\n",
    "\n",
    "---"
   ]
  },
  {
   "cell_type": "markdown",
   "metadata": {},
   "source": [
    "### Connect to your project and configure variables\n",
    "\n",
    "Let's import the required libraries and check that we have the relevant environment variables available to us. Note - if you want to see the default environment variables available in your enviroment, **open a terminal and type `env`**. We strongly recommend you do **NOT** print any envrionment variables to the output cells within the Notebook environment. If you do, you risk exposing sensitive information to others if you commit the Notebook without clearing all outputs."
   ]
  },
  {
   "cell_type": "code",
   "execution_count": 1,
   "metadata": {},
   "outputs": [],
   "source": [
    "# Import Required Libraries and setup environment\n",
    "from dotenv import load_dotenv\n",
    "load_dotenv()\n",
    "\n",
    "# Import required libraries\n",
    "from azure.ai.resources.client import AIClient\n",
    "from azure.identity import DefaultAzureCredential\n",
    "from azure.ai.resources.entities.models import Model\n",
    "from azure.ai.resources.entities.deployment import Deployment"
   ]
  },
  {
   "cell_type": "markdown",
   "metadata": {},
   "source": [
    "### Run copilot with a sample question"
   ]
  },
  {
   "cell_type": "code",
   "execution_count": null,
   "metadata": {},
   "outputs": [],
   "source": [
    "# Implementation = \"aisdk\"  - options are { aisdk | semantickernel | promptflow | langchain }\n",
    "# For now just invoke the method in the default python script.\n",
    "from chat import chat_completion\n",
    "\n",
    "# Simple question test\n",
    "question = \"Which tent is the most waterproof?\"\n",
    "\n",
    "# Define an async function to call the chat function\n",
    "result = await chat_completion([{\"role\": \"user\", \"content\": question}], stream=False)\n",
    "print(result)"
   ]
  }
 ],
 "metadata": {
  "kernelspec": {
   "display_name": "Python 3",
   "language": "python",
   "name": "python3"
  },
  "language_info": {
   "codemirror_mode": {
    "name": "ipython",
    "version": 3
   },
   "file_extension": ".py",
   "mimetype": "text/x-python",
   "name": "python",
   "nbconvert_exporter": "python",
   "pygments_lexer": "ipython3",
   "version": "3.10.13"
  },
  "orig_nbformat": 4
 },
 "nbformat": 4,
 "nbformat_minor": 2
}
